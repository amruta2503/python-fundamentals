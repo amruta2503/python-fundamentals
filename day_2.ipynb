{
 "cells": [
  {
   "cell_type": "code",
   "execution_count": null,
   "id": "fd49b538",
   "metadata": {},
   "outputs": [],
   "source": []
  },
  {
   "cell_type": "code",
   "execution_count": 5,
   "id": "09ca7fe5",
   "metadata": {},
   "outputs": [],
   "source": [
    "n = 10\n",
    "str = \"string\"\n",
    "float = 1.1\n",
    "bb = True\n"
   ]
  },
  {
   "cell_type": "code",
   "execution_count": 7,
   "id": "fa6f0f67",
   "metadata": {},
   "outputs": [
    {
     "name": "stdout",
     "output_type": "stream",
     "text": [
      "10 string 1.1 True\n"
     ]
    }
   ],
   "source": [
    "print(n,str,float,bb)"
   ]
  },
  {
   "cell_type": "markdown",
   "id": "bd36ed6f",
   "metadata": {},
   "source": [
    "# string Operations"
   ]
  },
  {
   "cell_type": "code",
   "execution_count": 8,
   "id": "21f84170",
   "metadata": {},
   "outputs": [],
   "source": [
    "s = \"India\""
   ]
  },
  {
   "cell_type": "code",
   "execution_count": 9,
   "id": "160f4886",
   "metadata": {},
   "outputs": [
    {
     "data": {
      "text/plain": [
       "'India'"
      ]
     },
     "execution_count": 9,
     "metadata": {},
     "output_type": "execute_result"
    }
   ],
   "source": [
    "s"
   ]
  },
  {
   "cell_type": "code",
   "execution_count": 11,
   "id": "fde209ae",
   "metadata": {},
   "outputs": [
    {
     "name": "stdout",
     "output_type": "stream",
     "text": [
      "5\n"
     ]
    }
   ],
   "source": [
    "print(len(s))"
   ]
  },
  {
   "cell_type": "code",
   "execution_count": 12,
   "id": "acaf82a7",
   "metadata": {},
   "outputs": [
    {
     "name": "stdout",
     "output_type": "stream",
     "text": [
      "I\n"
     ]
    }
   ],
   "source": [
    "print(s[0])"
   ]
  },
  {
   "cell_type": "code",
   "execution_count": 13,
   "id": "04a09e9f",
   "metadata": {},
   "outputs": [],
   "source": [
    "a = \"India is a great nation\""
   ]
  },
  {
   "cell_type": "code",
   "execution_count": 14,
   "id": "8aa0ad00",
   "metadata": {},
   "outputs": [
    {
     "name": "stdout",
     "output_type": "stream",
     "text": [
      "India\n"
     ]
    }
   ],
   "source": [
    "print(a[0:5])"
   ]
  },
  {
   "cell_type": "code",
   "execution_count": 18,
   "id": "16859cd4",
   "metadata": {},
   "outputs": [
    {
     "data": {
      "text/plain": [
       "'noitan taerg a si aidnI'"
      ]
     },
     "execution_count": 18,
     "metadata": {},
     "output_type": "execute_result"
    }
   ],
   "source": [
    "a[::-1]"
   ]
  },
  {
   "cell_type": "code",
   "execution_count": 19,
   "id": "78b9edfa",
   "metadata": {},
   "outputs": [
    {
     "data": {
      "text/plain": [
       "11"
      ]
     },
     "execution_count": 19,
     "metadata": {},
     "output_type": "execute_result"
    }
   ],
   "source": [
    "a.find(\"g\")"
   ]
  },
  {
   "cell_type": "code",
   "execution_count": 20,
   "id": "a238dc28",
   "metadata": {},
   "outputs": [
    {
     "data": {
      "text/plain": [
       "'INDIA IS A GREAT NATION'"
      ]
     },
     "execution_count": 20,
     "metadata": {},
     "output_type": "execute_result"
    }
   ],
   "source": [
    "a.upper()"
   ]
  },
  {
   "cell_type": "code",
   "execution_count": 21,
   "id": "f8924a59",
   "metadata": {},
   "outputs": [
    {
     "data": {
      "text/plain": [
       "False"
      ]
     },
     "execution_count": 21,
     "metadata": {},
     "output_type": "execute_result"
    }
   ],
   "source": [
    "a.isalpha()"
   ]
  },
  {
   "cell_type": "code",
   "execution_count": 22,
   "id": "f3134bea",
   "metadata": {},
   "outputs": [
    {
     "data": {
      "text/plain": [
       "'aa'"
      ]
     },
     "execution_count": 22,
     "metadata": {},
     "output_type": "execute_result"
    }
   ],
   "source": [
    "b = \"  aa \"\n",
    "b.strip()"
   ]
  },
  {
   "cell_type": "code",
   "execution_count": 24,
   "id": "9d2bed89",
   "metadata": {},
   "outputs": [],
   "source": [
    "a = a.split()"
   ]
  },
  {
   "cell_type": "code",
   "execution_count": 25,
   "id": "2b225c92",
   "metadata": {},
   "outputs": [
    {
     "data": {
      "text/plain": [
       "['India', 'is', 'a', 'great', 'nation']"
      ]
     },
     "execution_count": 25,
     "metadata": {},
     "output_type": "execute_result"
    }
   ],
   "source": [
    "a"
   ]
  },
  {
   "cell_type": "code",
   "execution_count": 27,
   "id": "63f5ecd5",
   "metadata": {},
   "outputs": [],
   "source": [
    "a = \"India is a great nation\""
   ]
  },
  {
   "cell_type": "code",
   "execution_count": 28,
   "id": "0f09d97d",
   "metadata": {},
   "outputs": [],
   "source": [
    "a = a.title()"
   ]
  },
  {
   "cell_type": "code",
   "execution_count": 29,
   "id": "635454d0",
   "metadata": {},
   "outputs": [
    {
     "data": {
      "text/plain": [
       "'India Is A Great Nation'"
      ]
     },
     "execution_count": 29,
     "metadata": {},
     "output_type": "execute_result"
    }
   ],
   "source": [
    "a"
   ]
  },
  {
   "cell_type": "markdown",
   "id": "a2da35e3",
   "metadata": {},
   "source": [
    "# List"
   ]
  },
  {
   "cell_type": "code",
   "execution_count": 30,
   "id": "00684e41",
   "metadata": {},
   "outputs": [
    {
     "data": {
      "text/plain": [
       "[]"
      ]
     },
     "execution_count": 30,
     "metadata": {},
     "output_type": "execute_result"
    }
   ],
   "source": [
    "list()"
   ]
  },
  {
   "cell_type": "code",
   "execution_count": 31,
   "id": "1223b8e5",
   "metadata": {},
   "outputs": [],
   "source": [
    "l = []"
   ]
  },
  {
   "cell_type": "code",
   "execution_count": 32,
   "id": "c1bd1305",
   "metadata": {},
   "outputs": [
    {
     "data": {
      "text/plain": [
       "[]"
      ]
     },
     "execution_count": 32,
     "metadata": {},
     "output_type": "execute_result"
    }
   ],
   "source": [
    "l"
   ]
  },
  {
   "cell_type": "code",
   "execution_count": 33,
   "id": "f2378d69",
   "metadata": {},
   "outputs": [
    {
     "data": {
      "text/plain": [
       "0"
      ]
     },
     "execution_count": 33,
     "metadata": {},
     "output_type": "execute_result"
    }
   ],
   "source": [
    "len(l)"
   ]
  },
  {
   "cell_type": "code",
   "execution_count": 35,
   "id": "0fc4d337",
   "metadata": {},
   "outputs": [],
   "source": [
    "list1=[\"India\",5 ,6.2,2+1j,True ]"
   ]
  },
  {
   "cell_type": "code",
   "execution_count": 36,
   "id": "f79fbc7a",
   "metadata": {},
   "outputs": [
    {
     "data": {
      "text/plain": [
       "['India', 5, 6.2, (2+1j), True]"
      ]
     },
     "execution_count": 36,
     "metadata": {},
     "output_type": "execute_result"
    }
   ],
   "source": [
    "list1"
   ]
  },
  {
   "cell_type": "code",
   "execution_count": 37,
   "id": "0710b8f6",
   "metadata": {},
   "outputs": [
    {
     "data": {
      "text/plain": [
       "'India'"
      ]
     },
     "execution_count": 37,
     "metadata": {},
     "output_type": "execute_result"
    }
   ],
   "source": [
    "list1[0]"
   ]
  },
  {
   "cell_type": "code",
   "execution_count": 38,
   "id": "11af2c5a",
   "metadata": {},
   "outputs": [],
   "source": [
    "list2 = [\"india\",False,6.6]\n",
    "list3 = [\"bharat\"]\n"
   ]
  },
  {
   "cell_type": "code",
   "execution_count": 39,
   "id": "e74e7512",
   "metadata": {},
   "outputs": [],
   "source": [
    "list2.extend(list3)"
   ]
  },
  {
   "cell_type": "code",
   "execution_count": 40,
   "id": "a4a558f2",
   "metadata": {},
   "outputs": [
    {
     "data": {
      "text/plain": [
       "['india', False, 6.6, 'bharat']"
      ]
     },
     "execution_count": 40,
     "metadata": {},
     "output_type": "execute_result"
    }
   ],
   "source": [
    "list2"
   ]
  },
  {
   "cell_type": "code",
   "execution_count": 41,
   "id": "1abb6817",
   "metadata": {},
   "outputs": [
    {
     "data": {
      "text/plain": [
       "'bharat'"
      ]
     },
     "execution_count": 41,
     "metadata": {},
     "output_type": "execute_result"
    }
   ],
   "source": [
    "list2.pop()"
   ]
  },
  {
   "cell_type": "code",
   "execution_count": 42,
   "id": "f5d07524",
   "metadata": {},
   "outputs": [
    {
     "data": {
      "text/plain": [
       "['india', False, 6.6]"
      ]
     },
     "execution_count": 42,
     "metadata": {},
     "output_type": "execute_result"
    }
   ],
   "source": [
    "list2"
   ]
  },
  {
   "cell_type": "code",
   "execution_count": 43,
   "id": "61f56cd5",
   "metadata": {},
   "outputs": [],
   "source": [
    "list2.append(\"bharat\")"
   ]
  },
  {
   "cell_type": "code",
   "execution_count": 44,
   "id": "70e98c4e",
   "metadata": {},
   "outputs": [
    {
     "data": {
      "text/plain": [
       "['india', False, 6.6, 'bharat']"
      ]
     },
     "execution_count": 44,
     "metadata": {},
     "output_type": "execute_result"
    }
   ],
   "source": [
    "list2"
   ]
  },
  {
   "cell_type": "code",
   "execution_count": 45,
   "id": "438ea924",
   "metadata": {},
   "outputs": [
    {
     "data": {
      "text/plain": [
       "'bharat'"
      ]
     },
     "execution_count": 45,
     "metadata": {},
     "output_type": "execute_result"
    }
   ],
   "source": [
    "list2.pop(3)"
   ]
  },
  {
   "cell_type": "code",
   "execution_count": 46,
   "id": "68bb4910",
   "metadata": {},
   "outputs": [],
   "source": [
    "list2.insert(1,\"harry\")"
   ]
  },
  {
   "cell_type": "code",
   "execution_count": 47,
   "id": "c467212d",
   "metadata": {},
   "outputs": [
    {
     "data": {
      "text/plain": [
       "['india', 'harry', False, 6.6]"
      ]
     },
     "execution_count": 47,
     "metadata": {},
     "output_type": "execute_result"
    }
   ],
   "source": [
    "list2"
   ]
  },
  {
   "cell_type": "code",
   "execution_count": 48,
   "id": "52c909ef",
   "metadata": {},
   "outputs": [],
   "source": [
    "list2.insert(-1,[1,2,3])"
   ]
  },
  {
   "cell_type": "code",
   "execution_count": 49,
   "id": "b429f861",
   "metadata": {},
   "outputs": [
    {
     "data": {
      "text/plain": [
       "['india', 'harry', False, [1, 2, 3], 6.6]"
      ]
     },
     "execution_count": 49,
     "metadata": {},
     "output_type": "execute_result"
    }
   ],
   "source": [
    "list2"
   ]
  },
  {
   "cell_type": "code",
   "execution_count": 50,
   "id": "7a9aadea",
   "metadata": {},
   "outputs": [
    {
     "data": {
      "text/plain": [
       "[1, 2, 3]"
      ]
     },
     "execution_count": 50,
     "metadata": {},
     "output_type": "execute_result"
    }
   ],
   "source": [
    "list2[-2]"
   ]
  },
  {
   "cell_type": "code",
   "execution_count": 52,
   "id": "4acd6706",
   "metadata": {},
   "outputs": [
    {
     "data": {
      "text/plain": [
       "1"
      ]
     },
     "execution_count": 52,
     "metadata": {},
     "output_type": "execute_result"
    }
   ],
   "source": [
    "list2[-2][0]"
   ]
  },
  {
   "cell_type": "code",
   "execution_count": 53,
   "id": "9e690529",
   "metadata": {},
   "outputs": [
    {
     "data": {
      "text/plain": [
       "[6.6, [1, 2, 3], False, 'harry', 'india']"
      ]
     },
     "execution_count": 53,
     "metadata": {},
     "output_type": "execute_result"
    }
   ],
   "source": [
    "list2[::-1]"
   ]
  },
  {
   "cell_type": "code",
   "execution_count": 54,
   "id": "e692fa7e",
   "metadata": {},
   "outputs": [],
   "source": [
    "list4 = [1,43,76]"
   ]
  },
  {
   "cell_type": "code",
   "execution_count": 55,
   "id": "6f6739d0",
   "metadata": {},
   "outputs": [],
   "source": [
    "list4.sort(reverse=True)"
   ]
  },
  {
   "cell_type": "code",
   "execution_count": 56,
   "id": "d8b036c2",
   "metadata": {},
   "outputs": [
    {
     "data": {
      "text/plain": [
       "[76, 43, 1]"
      ]
     },
     "execution_count": 56,
     "metadata": {},
     "output_type": "execute_result"
    }
   ],
   "source": [
    "list4"
   ]
  },
  {
   "cell_type": "code",
   "execution_count": 57,
   "id": "8ae4f607",
   "metadata": {},
   "outputs": [],
   "source": [
    "list4.sort(reverse=False)"
   ]
  },
  {
   "cell_type": "code",
   "execution_count": 58,
   "id": "c8521fe4",
   "metadata": {},
   "outputs": [
    {
     "data": {
      "text/plain": [
       "[1, 43, 76]"
      ]
     },
     "execution_count": 58,
     "metadata": {},
     "output_type": "execute_result"
    }
   ],
   "source": [
    "list4"
   ]
  },
  {
   "cell_type": "markdown",
   "id": "884b6d6b",
   "metadata": {},
   "source": [
    "# conditions"
   ]
  },
  {
   "cell_type": "code",
   "execution_count": 59,
   "id": "89ad2612",
   "metadata": {},
   "outputs": [],
   "source": [
    "marks = 45"
   ]
  },
  {
   "cell_type": "code",
   "execution_count": 61,
   "id": "5519be37",
   "metadata": {},
   "outputs": [
    {
     "name": "stdout",
     "output_type": "stream",
     "text": [
      "45 pass\n"
     ]
    }
   ],
   "source": [
    "if marks > 35 :\n",
    "    print(f\"{marks} pass\")\n",
    "else:\n",
    "    print(\"fail\")"
   ]
  },
  {
   "cell_type": "code",
   "execution_count": 63,
   "id": "908dc4ae",
   "metadata": {},
   "outputs": [
    {
     "name": "stdout",
     "output_type": "stream",
     "text": [
      "Enter Marks:45\n",
      "45 pass\n"
     ]
    }
   ],
   "source": [
    "marks = int(input(\"Enter Marks:\"))\n",
    "if marks> 35:\n",
    "    print(f\"{marks} pass\")\n",
    "else:\n",
    "    print(f\"{marks}fail\")\n"
   ]
  },
  {
   "cell_type": "code",
   "execution_count": null,
   "id": "a1b4e60b",
   "metadata": {},
   "outputs": [],
   "source": []
  }
 ],
 "metadata": {
  "kernelspec": {
   "display_name": "Python 3 (ipykernel)",
   "language": "python",
   "name": "python3"
  },
  "language_info": {
   "codemirror_mode": {
    "name": "ipython",
    "version": 3
   },
   "file_extension": ".py",
   "mimetype": "text/x-python",
   "name": "python",
   "nbconvert_exporter": "python",
   "pygments_lexer": "ipython3",
   "version": "3.11.5"
  }
 },
 "nbformat": 4,
 "nbformat_minor": 5
}
