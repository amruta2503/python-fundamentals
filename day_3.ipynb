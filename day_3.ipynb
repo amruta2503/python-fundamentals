{
 "cells": [
  {
   "cell_type": "markdown",
   "id": "113bf940",
   "metadata": {},
   "source": [
    "#LOOP"
   ]
  },
  {
   "cell_type": "code",
   "execution_count": 1,
   "id": "f01f624a",
   "metadata": {},
   "outputs": [],
   "source": [
    "l = [23, 42, 53, 66]"
   ]
  },
  {
   "cell_type": "code",
   "execution_count": 2,
   "id": "1c6b0499",
   "metadata": {},
   "outputs": [
    {
     "name": "stdout",
     "output_type": "stream",
     "text": [
      "23\n",
      "42\n",
      "53\n",
      "66\n"
     ]
    }
   ],
   "source": [
    "for i in l:  #for <index> in <iterator>\n",
    "    print(i)"
   ]
  },
  {
   "cell_type": "code",
   "execution_count": 4,
   "id": "75c500ee",
   "metadata": {},
   "outputs": [
    {
     "data": {
      "text/plain": [
       "4"
      ]
     },
     "execution_count": 4,
     "metadata": {},
     "output_type": "execute_result"
    }
   ],
   "source": [
    "len(l)"
   ]
  },
  {
   "cell_type": "code",
   "execution_count": 5,
   "id": "0bd48b2e",
   "metadata": {},
   "outputs": [
    {
     "name": "stdout",
     "output_type": "stream",
     "text": [
      "23\n",
      "42\n",
      "53\n",
      "66\n"
     ]
    }
   ],
   "source": [
    "for i in range(0,4):\n",
    "    print(l[i])"
   ]
  },
  {
   "cell_type": "code",
   "execution_count": 6,
   "id": "a7e07628",
   "metadata": {},
   "outputs": [
    {
     "name": "stdout",
     "output_type": "stream",
     "text": [
      "23\n",
      "42\n",
      "53\n",
      "66\n"
     ]
    }
   ],
   "source": [
    "for i in range(0,len(l)):\n",
    "    print(l[i])"
   ]
  },
  {
   "cell_type": "code",
   "execution_count": 7,
   "id": "227855ae",
   "metadata": {},
   "outputs": [
    {
     "name": "stdout",
     "output_type": "stream",
     "text": [
      "184\n"
     ]
    }
   ],
   "source": [
    "sum = 0\n",
    "for i in range(0,len(l)):\n",
    "    sum = sum + l[i]\n",
    "print(sum)"
   ]
  },
  {
   "cell_type": "code",
   "execution_count": 8,
   "id": "4b97b0ba",
   "metadata": {},
   "outputs": [
    {
     "name": "stdout",
     "output_type": "stream",
     "text": [
      "5 x 1 = 5 \n",
      "5 x 2 = 10 \n",
      "5 x 3 = 15 \n",
      "5 x 4 = 20 \n",
      "5 x 5 = 25 \n",
      "5 x 6 = 30 \n",
      "5 x 7 = 35 \n",
      "5 x 8 = 40 \n",
      "5 x 9 = 45 \n",
      "5 x 10 = 50 \n"
     ]
    }
   ],
   "source": [
    "n = 5\n",
    "for i in range(1,11):\n",
    "    print(f\"{n} x {i} = {n*i} \")"
   ]
  },
  {
   "cell_type": "code",
   "execution_count": 9,
   "id": "cc9ea5d8",
   "metadata": {},
   "outputs": [
    {
     "name": "stdout",
     "output_type": "stream",
     "text": [
      "256\n"
     ]
    }
   ],
   "source": [
    "result = 1\n",
    "n = 4\n",
    "for i in range (1,n+1):\n",
    "    result = result * n\n",
    "print(result)"
   ]
  },
  {
   "cell_type": "code",
   "execution_count": 11,
   "id": "b41017a3",
   "metadata": {},
   "outputs": [
    {
     "name": "stdout",
     "output_type": "stream",
     "text": [
      " * \n",
      " *  * \n",
      " *  *  * \n",
      " *  *  *  * \n",
      " *  *  *  *  * \n"
     ]
    }
   ],
   "source": [
    "n = 5\n",
    "i = 1\n",
    "while i<=n:\n",
    "    print(\" * \" * i)\n",
    "    i=i+1\n",
    "    "
   ]
  },
  {
   "cell_type": "code",
   "execution_count": 13,
   "id": "5c0d7f7d",
   "metadata": {},
   "outputs": [
    {
     "name": "stdout",
     "output_type": "stream",
     "text": [
      " *  *  *  *  * \n",
      " *  *  *  * \n",
      " *  *  * \n",
      " *  * \n",
      " * \n"
     ]
    }
   ],
   "source": [
    "n = 5\n",
    "i = n\n",
    "while i>=1:\n",
    "    print(\" * \" * i)\n",
    "    i=i-1\n",
    "    "
   ]
  },
  {
   "cell_type": "code",
   "execution_count": 15,
   "id": "c355ded6",
   "metadata": {},
   "outputs": [
    {
     "name": "stdout",
     "output_type": "stream",
     "text": [
      "P\n",
      "y\n",
      "t\n",
      "h\n",
      "o\n",
      "n\n"
     ]
    }
   ],
   "source": [
    "string = \"Python\"\n",
    "index = 0\n",
    "while index < len(string):\n",
    "    print(string[index])\n",
    "    index = index + 1\n",
    "    \n",
    "    \n",
    "    \n",
    "    "
   ]
  },
  {
   "cell_type": "code",
   "execution_count": 22,
   "id": "2df91920",
   "metadata": {},
   "outputs": [
    {
     "name": "stdout",
     "output_type": "stream",
     "text": [
      "Enter number:10\n",
      "10\n",
      "9\n",
      "8\n",
      "7\n",
      "6\n",
      "5\n",
      "4\n",
      "3\n",
      "2\n",
      "1\n"
     ]
    }
   ],
   "source": [
    "num = int(input(\"Enter number:\"))\n",
    "while num>=1:\n",
    "    print(num)\n",
    "    num = num -1"
   ]
  },
  {
   "cell_type": "code",
   "execution_count": 26,
   "id": "bb0a7ffb",
   "metadata": {},
   "outputs": [
    {
     "name": "stdout",
     "output_type": "stream",
     "text": [
      "Enter number:10\n",
      "10\n",
      "9\n",
      "8\n",
      "7\n",
      "6\n",
      "5\n",
      "4\n",
      "3\n",
      "2\n",
      "1\n"
     ]
    }
   ],
   "source": [
    "num = int(input(\"Enter number:\"))\n",
    "for i in range(num,0,-1):\n",
    "    print(i)"
   ]
  },
  {
   "cell_type": "code",
   "execution_count": 29,
   "id": "2f7da3c3",
   "metadata": {},
   "outputs": [
    {
     "name": "stdout",
     "output_type": "stream",
     "text": [
      "6\n"
     ]
    }
   ],
   "source": [
    "sum = 0\n",
    "for i in range(2,6,2):\n",
    "    sum = sum + i\n",
    "print(sum)"
   ]
  },
  {
   "cell_type": "code",
   "execution_count": 32,
   "id": "78c53f46",
   "metadata": {},
   "outputs": [
    {
     "name": "stdout",
     "output_type": "stream",
     "text": [
      "Hello sanjay\n"
     ]
    }
   ],
   "source": [
    "def my_func(name):\n",
    "    print(\"Hello\",name)\n",
    "    \n",
    "my_func(\"sanjay\")"
   ]
  },
  {
   "cell_type": "code",
   "execution_count": 33,
   "id": "ef5a4652",
   "metadata": {},
   "outputs": [],
   "source": [
    "def my_func():\n",
    "    return \"hello\"\n",
    "result = my_func()"
   ]
  },
  {
   "cell_type": "code",
   "execution_count": 34,
   "id": "0ad9e991",
   "metadata": {},
   "outputs": [
    {
     "name": "stdout",
     "output_type": "stream",
     "text": [
      "hello\n"
     ]
    }
   ],
   "source": [
    "print(result)"
   ]
  },
  {
   "cell_type": "code",
   "execution_count": 111,
   "id": "8f38df7d",
   "metadata": {},
   "outputs": [
    {
     "name": "stdout",
     "output_type": "stream",
     "text": [
      "Enter Number:5\n",
      " 5  5  5  5  5 \n",
      " 4  4  4  4 \n",
      " 3  3  3 \n",
      " 2  2 \n",
      " 1 \n"
     ]
    }
   ],
   "source": [
    "num = int(input(\"Enter Number:\"))\n",
    "i = num\n",
    "while num >= 1:\n",
    "    print(f\" {num} \"*i)\n",
    "    num=num-1 \n",
    "    i = i - 1\n"
   ]
  },
  {
   "cell_type": "code",
   "execution_count": 67,
   "id": "c43f8ee9",
   "metadata": {},
   "outputs": [],
   "source": [
    "def test1():\n",
    "    list1=[1,2,3,4]\n",
    "    sum = 0\n",
    "    for i in l:\n",
    "        sum = sum + i\n",
    "    return sum"
   ]
  },
  {
   "cell_type": "code",
   "execution_count": 68,
   "id": "1ded7bff",
   "metadata": {},
   "outputs": [],
   "source": [
    "result=test1()"
   ]
  },
  {
   "cell_type": "code",
   "execution_count": 69,
   "id": "d574f953",
   "metadata": {},
   "outputs": [
    {
     "name": "stdout",
     "output_type": "stream",
     "text": [
      "184\n"
     ]
    }
   ],
   "source": [
    "print(result)"
   ]
  },
  {
   "cell_type": "code",
   "execution_count": 71,
   "id": "382751a0",
   "metadata": {},
   "outputs": [],
   "source": [
    "def test2():\n",
    "    list = [1,2,3,4,\"abc\",\"xyz\",5,6,7,\"ijk\",8,9,10]\n",
    "    sum = 0\n",
    "    for i in list:\n",
    "        if type(i) == int:\n",
    "            sum = sum + i\n",
    "    print(sum)"
   ]
  },
  {
   "cell_type": "code",
   "execution_count": 72,
   "id": "a9fc2669",
   "metadata": {},
   "outputs": [
    {
     "name": "stdout",
     "output_type": "stream",
     "text": [
      "55\n"
     ]
    }
   ],
   "source": [
    "test2()"
   ]
  },
  {
   "cell_type": "code",
   "execution_count": 81,
   "id": "664129e0",
   "metadata": {},
   "outputs": [],
   "source": [
    "def add(a,b):\n",
    "    \"\"\"\n",
    "    calculates addition of two numbers\n",
    "    :params:'a' is a firt number\n",
    "    :params:'b' is a second number\n",
    "    :returns sum of two numbers\n",
    "    \"\"\"\n",
    "    sum = a+b\n",
    "    return sum"
   ]
  },
  {
   "cell_type": "code",
   "execution_count": 78,
   "id": "39534133",
   "metadata": {},
   "outputs": [
    {
     "data": {
      "text/plain": [
       "10"
      ]
     },
     "execution_count": 78,
     "metadata": {},
     "output_type": "execute_result"
    }
   ],
   "source": [
    "add(5,5)"
   ]
  },
  {
   "cell_type": "code",
   "execution_count": 83,
   "id": "3ca51f7a",
   "metadata": {},
   "outputs": [
    {
     "name": "stdout",
     "output_type": "stream",
     "text": [
      "\n",
      "    calculates addition of two numbers\n",
      "    :params:'a' is a firt number\n",
      "    :params:'b' is a second number\n",
      "    :returns sum of two numbers\n",
      "    \n"
     ]
    }
   ],
   "source": [
    "print(add.__doc__)"
   ]
  },
  {
   "cell_type": "code",
   "execution_count": 101,
   "id": "33907830",
   "metadata": {},
   "outputs": [],
   "source": [
    "list4=[1,2,3,'a','b',6,7,8,'c','d']"
   ]
  },
  {
   "cell_type": "code",
   "execution_count": 102,
   "id": "c11a7dcf",
   "metadata": {},
   "outputs": [],
   "source": [
    "def test3(list4=list()):\n",
    "    li_str=[]\n",
    "    li_int=[]\n",
    "    for i in list4:\n",
    "        if type(i)==str:\n",
    "            li_str.append(i)\n",
    "        if type(i)==int:\n",
    "            li_int.append(i)\n",
    "    return li_str,li_int"
   ]
  },
  {
   "cell_type": "code",
   "execution_count": 103,
   "id": "31884f35",
   "metadata": {},
   "outputs": [],
   "source": [
    "li_str,li_int=test3(list4)"
   ]
  },
  {
   "cell_type": "code",
   "execution_count": 104,
   "id": "3877b236",
   "metadata": {},
   "outputs": [
    {
     "data": {
      "text/plain": [
       "['a', 'b', 'c', 'd']"
      ]
     },
     "execution_count": 104,
     "metadata": {},
     "output_type": "execute_result"
    }
   ],
   "source": [
    "li_str"
   ]
  },
  {
   "cell_type": "code",
   "execution_count": 105,
   "id": "d4d014f8",
   "metadata": {},
   "outputs": [
    {
     "data": {
      "text/plain": [
       "[1, 2, 3, 6, 7, 8]"
      ]
     },
     "execution_count": 105,
     "metadata": {},
     "output_type": "execute_result"
    }
   ],
   "source": [
    "li_int"
   ]
  },
  {
   "cell_type": "code",
   "execution_count": null,
   "id": "816b1388",
   "metadata": {},
   "outputs": [],
   "source": []
  }
 ],
 "metadata": {
  "kernelspec": {
   "display_name": "Python 3 (ipykernel)",
   "language": "python",
   "name": "python3"
  },
  "language_info": {
   "codemirror_mode": {
    "name": "ipython",
    "version": 3
   },
   "file_extension": ".py",
   "mimetype": "text/x-python",
   "name": "python",
   "nbconvert_exporter": "python",
   "pygments_lexer": "ipython3",
   "version": "3.11.5"
  }
 },
 "nbformat": 4,
 "nbformat_minor": 5
}
